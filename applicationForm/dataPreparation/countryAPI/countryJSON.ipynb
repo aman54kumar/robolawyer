{
 "cells": [
  {
   "cell_type": "code",
   "execution_count": 2,
   "metadata": {},
   "outputs": [],
   "source": [
    "import pandas as pd\n",
    "from datetime import datetime\n",
    "import os\n",
    "import jsons\n",
    "import numpy as np\n",
    "jsons.suppress_warnings()"
   ]
  },
  {
   "cell_type": "code",
   "execution_count": 3,
   "metadata": {},
   "outputs": [],
   "source": [
    "articleFilename = \"./API articles with ratification dates and reservations.xlsx\"\n",
    "courtFilename = \"./Countries_and_national_courts.csv\"\n",
    "path = \"D:/Projects/robolawyer/applicationForm/dataPreparation/countryAPI\"\n",
    "os.chdir(path)\n",
    "final_list = []\n",
    "country_json = {}\n",
    "article_json = {}\n",
    "country_json = {}\n",
    "court_json = {}\n",
    "fill_dt = datetime(2100,1,1)\n",
    "fill_na = \"N/A\""
   ]
  },
  {
   "cell_type": "code",
   "execution_count": 4,
   "metadata": {},
   "outputs": [],
   "source": [
    "sheet_name = [i for i in range(1, 46)]\n",
    "data = pd.read_excel(articleFilename, sheet_name=sheet_name, index_col=0)\n",
    "court = pd.read_csv(courtFilename, header=0, sep=\",\")\n",
    "for element in data:\n",
    "    data[element]['Date'] = data[element]['Date'].fillna(fill_dt)\n",
    "    data[element]['Active/not active'] = data[element]['Active/not active'].fillna(fill_na)\n",
    "    data[element]['Reservations/Derogations/Declarations'] = data[element]['Reservations/Derogations/Declarations'].fillna(fill_na)\n",
    "    data[element]['Article'] = data[element]['Article'].fillna(fill_na)\n",
    "    data[element]['Full text'] = data[element]['Full text'].fillna(fill_na)"
   ]
  },
  {
   "cell_type": "code",
   "execution_count": 5,
   "metadata": {},
   "outputs": [],
   "source": [
    "# court['Country']\n"
   ]
  },
  {
   "cell_type": "code",
   "execution_count": 6,
   "metadata": {},
   "outputs": [],
   "source": [
    "for item in range(1, len(data)):\n",
    "    country_json[data[item]['Country'][1]] = {}\n",
    "    \n",
    "court_country = court['Country']"
   ]
  },
  {
   "cell_type": "raw",
   "metadata": {},
   "source": [
    "{\n",
    "    \"Albania\": {\n",
    "        \"date\": [],\n",
    "        \"Active\": [],\n",
    "        \"Reservations\": [],\n",
    "        \"Article\": [],\n",
    "        \"Full Text: []\n",
    "    },\n",
    "    \n",
    "    \n",
    "}\n",
    "\n",
    "Index(['Country', 'Date', 'Active/not active',\n",
    "       'Reservations/Derogations/Declarations', 'Article', 'Full text'],\n",
    "      dtype='object')"
   ]
  },
  {
   "cell_type": "code",
   "execution_count": null,
   "metadata": {},
   "outputs": [],
   "source": []
  },
  {
   "cell_type": "code",
   "execution_count": 7,
   "metadata": {},
   "outputs": [],
   "source": [
    "for item in country_json:\n",
    "    for record in data:\n",
    "        if item == data[record]['Country'].any():\n",
    "            country_json[item]['Date'] = pd.to_datetime(data[record]['Date']).dt.strftime(\"%d-%m-%Y\")\n",
    "            country_json[item]['Active'] = data[record]['Active/not active']\n",
    "            country_json[item]['Reservations'] = data[record]['Reservations/Derogations/Declarations']\n",
    "            country_json[item]['ratDate'] = pd.to_datetime(data[record]['Date'].min()).strftime(\"%d-%m-%Y\")\n",
    "        if item == data[record]['Country'].all():\n",
    "            article_json['Article'] = data[record]['Article'] \n",
    "            article_json['Full text'] = data[record]['Full text']\n",
    "        \n",
    "        if item in court['Country'].tolist():\n",
    "            myIndex = court_country[court_country==item].index[0]\n",
    "            if type(court['ProceedingType3'].iloc[myIndex])==float and type(court['ProceedingType2'].iloc[myIndex])==float:\n",
    "                country_json[item][\"Court\"] = {'ProceedingType1':str(court['ProceedingType1'].iloc[myIndex]),\n",
    "                                               'Court1': str(court['Court1'].iloc[myIndex])}\n",
    "\n",
    "            elif type(court['ProceedingType3'].iloc[myIndex])==float and type(court['ProceedingType2'].iloc[myIndex])==str:\n",
    "\n",
    "                country_json[item][\"Court\"] = {'ProceedingType1':str(court['ProceedingType1'].iloc[myIndex]),\n",
    "                                               'Court1': str(court['Court1'].iloc[myIndex]),\n",
    "                                          'ProceedingType2':str(court['ProceedingType2'].iloc[myIndex]),\n",
    "                                               'Court2': str(court['Court2'].iloc[myIndex])}\n",
    "            else:\n",
    "                country_json[item][\"Court\"] = {'ProceedingType1': str(court['ProceedingType1'].iloc[myIndex]), \n",
    "                                               'Court1': str(court['Court1'].iloc[myIndex]),\n",
    "                                          'ProceedingType2': str(court['ProceedingType2'].iloc[myIndex]),\n",
    "                                               'Court2': str(court['Court2'].iloc[myIndex]),\n",
    "                                          'ProceedingType3': str(court['ProceedingType3'].iloc[myIndex]),\n",
    "                                               'Court3': str(court['Court3'].iloc[myIndex])}\n",
    "\n"
   ]
  },
  {
   "cell_type": "code",
   "execution_count": null,
   "metadata": {},
   "outputs": [],
   "source": [
    "\n",
    "\n"
   ]
  },
  {
   "cell_type": "code",
   "execution_count": null,
   "metadata": {},
   "outputs": [],
   "source": []
  },
  {
   "cell_type": "code",
   "execution_count": null,
   "metadata": {},
   "outputs": [],
   "source": []
  },
  {
   "cell_type": "code",
   "execution_count": 8,
   "metadata": {},
   "outputs": [],
   "source": [
    "with open('final.json', 'w', encoding = \"UTF-8\") as ps:\n",
    "    ps.write(jsons.dumps(country_json))"
   ]
  },
  {
   "cell_type": "code",
   "execution_count": null,
   "metadata": {},
   "outputs": [],
   "source": [
    "# with open('article.json', 'w', encoding=\"UTF-8\") as ps:\n",
    "#     ps.write(jsons.dumps(article_json))"
   ]
  },
  {
   "cell_type": "code",
   "execution_count": null,
   "metadata": {},
   "outputs": [],
   "source": []
  },
  {
   "cell_type": "code",
   "execution_count": null,
   "metadata": {},
   "outputs": [],
   "source": []
  }
 ],
 "metadata": {
  "kernelspec": {
   "display_name": "Python 3",
   "language": "python",
   "name": "python3"
  },
  "language_info": {
   "codemirror_mode": {
    "name": "ipython",
    "version": 3
   },
   "file_extension": ".py",
   "mimetype": "text/x-python",
   "name": "python",
   "nbconvert_exporter": "python",
   "pygments_lexer": "ipython3",
   "version": "3.7.7"
  }
 },
 "nbformat": 4,
 "nbformat_minor": 4
}
