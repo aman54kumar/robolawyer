{
 "cells": [
  {
   "cell_type": "code",
   "execution_count": 24,
   "metadata": {},
   "outputs": [],
   "source": [
    "import pandas as pd\n",
    "from datetime import datetime\n",
    "import os\n",
    "import jsons\n",
    "import numpy as np\n",
    "jsons.suppress_warnings()"
   ]
  },
  {
   "cell_type": "code",
   "execution_count": 25,
   "metadata": {},
   "outputs": [],
   "source": [
    "articleFilename = \"./9.dec.2020 - API articles with ratification dates and reservations.xlsx\"\n",
    "courtFilename = \"./Countries_and_national_courts.csv\"\n",
    "# path = \"D:/Projects/robolawyer/applicationForm/dataPreparation/countryAPI\"\n",
    "path = \"/home/aman/Projects/robolawyer/applicationForm/dataPreparation/countryAPI\"\n",
    "os.chdir(path)\n",
    "final_list = []\n",
    "country_json = {}\n",
    "article_json = {}\n",
    "country_json = {}\n",
    "court_json = {}\n",
    "fill_dt = datetime(2100,1,1)\n",
    "fill_na = \"N/A\""
   ]
  },
  {
   "cell_type": "code",
   "execution_count": 26,
   "metadata": {},
   "outputs": [],
   "source": [
    "sheet_name = [i for i in range(1, 46)]\n",
    "data = pd.read_excel(articleFilename, sheet_name=sheet_name, index_col=0)\n",
    "court = pd.read_csv(courtFilename, header=0, sep=\",\")\n",
    "\n",
    "\n",
    "\n",
    "for element in data:\n",
    "    data[element]['Date'] = data[element]['Date'].fillna(fill_dt)\n",
    "    data[element]['Active/not active'] = data[element]['Active/not active'].fillna(fill_na)\n",
    "    data[element]['Reservations/Derogations/Declarations'] = data[element]['Reservations/Derogations/Declarations'].fillna(fill_na)\n",
    "    data[element]['Article'] = data[element]['Article'].fillna(fill_na)\n",
    "    data[element]['Full text'] = data[element]['Full text'].fillna(fill_na)\n",
    "    \n"
   ]
  },
  {
   "cell_type": "code",
   "execution_count": 41,
   "metadata": {},
   "outputs": [],
   "source": [
    "def getFormattedArticleText(text):\n",
    "    text = text.split('<br/>\\n')\n",
    "    if len(text) == 1:\n",
    "        return [{'mainText': text,'points': []}]\n",
    "    res = []\n",
    "    flag = 0\n",
    "    temp = {'mainText': '','points': []}\n",
    "    for i in text:\n",
    "        if i[0] != '(':\n",
    "            # main text\n",
    "            if flag == 1 or flag == 2:\n",
    "                res.append(temp)\n",
    "                temp = {'mainText': '','points': []}\n",
    "            flag = 1\n",
    "            temp['mainText'] = i\n",
    "        else:\n",
    "            # points\n",
    "            flag = 2\n",
    "            temp['points'].append(i)\n",
    "    if flag == 2:\n",
    "        res.append(temp)\n",
    "    return res\n",
    "    "
   ]
  },
  {
   "cell_type": "code",
   "execution_count": 42,
   "metadata": {},
   "outputs": [
    {
     "name": "stdout",
     "output_type": "stream",
     "text": [
      "'1. No one shall be held guilty of any criminal offence on account of any act or omission which did not constitute a criminal offence under national or international law at the time when it was committed. Nor shall a heavier penalty be imposed than the one that was applicable at the time the criminal offence was committed. <br/>\\n2. This Article shall not prejudice the trial and punishment of any person for any act or omission which, at the time when it was committed, was criminal according to the general principles of law recognised by civilised nations.'\n",
      "\n",
      "\n",
      "\n",
      "'1. Everyone’s right to life shall be protected by law. No one shall be deprived of his life intentionally save in the execution of a sentence of a court following his conviction of a crime for which this penalty is provided by law. <br/>\\n2. Deprivation of life shall not be regarded as inflicted in contravention of this Article when it results from the use of force which is no more than absolutely necessary: <br/>\\n(a) in defence of any person from unlawful violence; <br/>\\n(b) in order to effect a lawful arrest or to prevent the escape of a person lawfully detained; <br/>\\n(c) in action lawfully taken for the purpose of quelling a riot or insurrection.'\n"
     ]
    },
    {
     "ename": "KeyError",
     "evalue": "'points'",
     "output_type": "error",
     "traceback": [
      "\u001b[0;31m---------------------------------------\u001b[0m",
      "\u001b[0;31mKeyError\u001b[0mTraceback (most recent call last)",
      "\u001b[0;32m<ipython-input-42-6cb5373a34b5>\u001b[0m in \u001b[0;36m<module>\u001b[0;34m\u001b[0m\n\u001b[1;32m      6\u001b[0m \u001b[0mresultList\u001b[0m \u001b[0;34m=\u001b[0m \u001b[0;34m[\u001b[0m\u001b[0;34m]\u001b[0m\u001b[0;34m\u001b[0m\u001b[0;34m\u001b[0m\u001b[0m\n\u001b[1;32m      7\u001b[0m \u001b[0;32mfor\u001b[0m \u001b[0mtext\u001b[0m \u001b[0;32min\u001b[0m \u001b[0mtextArray\u001b[0m\u001b[0;34m:\u001b[0m\u001b[0;34m\u001b[0m\u001b[0;34m\u001b[0m\u001b[0m\n\u001b[0;32m----> 8\u001b[0;31m     \u001b[0mresultList\u001b[0m\u001b[0;34m.\u001b[0m\u001b[0mappend\u001b[0m\u001b[0;34m(\u001b[0m\u001b[0mgetFormattedArticleText\u001b[0m\u001b[0;34m(\u001b[0m\u001b[0mtext\u001b[0m\u001b[0;34m)\u001b[0m\u001b[0;34m)\u001b[0m\u001b[0;34m\u001b[0m\u001b[0;34m\u001b[0m\u001b[0m\n\u001b[0m\u001b[1;32m      9\u001b[0m \u001b[0;34m\u001b[0m\u001b[0m\n\u001b[1;32m     10\u001b[0m \u001b[0;34m\u001b[0m\u001b[0m\n",
      "\u001b[0;32m<ipython-input-41-e37262f0290e>\u001b[0m in \u001b[0;36mgetFormattedArticleText\u001b[0;34m(text)\u001b[0m\n\u001b[1;32m     17\u001b[0m             \u001b[0;31m# points\u001b[0m\u001b[0;34m\u001b[0m\u001b[0;34m\u001b[0m\u001b[0;34m\u001b[0m\u001b[0m\n\u001b[1;32m     18\u001b[0m             \u001b[0mflag\u001b[0m \u001b[0;34m=\u001b[0m \u001b[0;36m2\u001b[0m\u001b[0;34m\u001b[0m\u001b[0;34m\u001b[0m\u001b[0m\n\u001b[0;32m---> 19\u001b[0;31m             \u001b[0mtemp\u001b[0m\u001b[0;34m[\u001b[0m\u001b[0;34m'points'\u001b[0m\u001b[0;34m]\u001b[0m\u001b[0;34m.\u001b[0m\u001b[0mappend\u001b[0m\u001b[0;34m(\u001b[0m\u001b[0mi\u001b[0m\u001b[0;34m)\u001b[0m\u001b[0;34m\u001b[0m\u001b[0;34m\u001b[0m\u001b[0m\n\u001b[0m\u001b[1;32m     20\u001b[0m     \u001b[0;32mif\u001b[0m \u001b[0mflag\u001b[0m \u001b[0;34m==\u001b[0m \u001b[0;36m2\u001b[0m\u001b[0;34m:\u001b[0m\u001b[0;34m\u001b[0m\u001b[0;34m\u001b[0m\u001b[0m\n\u001b[1;32m     21\u001b[0m         \u001b[0mres\u001b[0m\u001b[0;34m.\u001b[0m\u001b[0mappend\u001b[0m\u001b[0;34m(\u001b[0m\u001b[0mtemp\u001b[0m\u001b[0;34m)\u001b[0m\u001b[0;34m\u001b[0m\u001b[0;34m\u001b[0m\u001b[0m\n",
      "\u001b[0;31mKeyError\u001b[0m: 'points'"
     ]
    }
   ],
   "source": [
    "import json\n",
    "textArray = data[1]['Full text']\n",
    "print(repr(textArray[6]))\n",
    "print(\"\\n\\n\")\n",
    "print(repr(textArray[1]))\n",
    "resultList = []\n",
    "for text in textArray:\n",
    "    resultList.append(getFormattedArticleText(text))\n",
    "\n",
    "    \n",
    "# resultList"
   ]
  },
  {
   "cell_type": "code",
   "execution_count": 18,
   "metadata": {},
   "outputs": [],
   "source": [
    "for item in range(1, len(data)):\n",
    "    country_json[data[item]['Country'][1]] = {}\n",
    "    \n",
    "court_country = court['Country']"
   ]
  },
  {
   "cell_type": "raw",
   "metadata": {},
   "source": [
    "{\n",
    "    \"Albania\": {\n",
    "        \"date\": [],\n",
    "        \"Active\": [],\n",
    "        \"Reservations\": [],\n",
    "        \"Article\": [],\n",
    "        \"Full Text: []\n",
    "    },\n",
    "    \n",
    "    \n",
    "}\n",
    "\n",
    "Index(['Country', 'Date', 'Active/not active',\n",
    "       'Reservations/Derogations/Declarations', 'Article', 'Full text'],\n",
    "      dtype='object')"
   ]
  },
  {
   "cell_type": "code",
   "execution_count": 19,
   "metadata": {},
   "outputs": [],
   "source": [
    "for item in country_json:\n",
    "    for record in data:\n",
    "        if item == data[record]['Country'].any():\n",
    "            country_json[item]['Date'] = pd.to_datetime(data[record]['Date']).dt.strftime(\"%d-%m-%Y\")\n",
    "            country_json[item]['Active'] = data[record]['Active/not active']\n",
    "            country_json[item]['Reservations'] = data[record]['Reservations/Derogations/Declarations']\n",
    "            country_json[item]['ratDate'] = pd.to_datetime(data[record]['Date'].min()).strftime(\"%d-%m-%Y\")\n",
    "        if item == data[record]['Country'].all():\n",
    "            article_json['Article'] = data[record]['Article'] \n",
    "            article_json['Full text'] = resultList\n",
    "        \n",
    "        if item in court['Country'].tolist():\n",
    "            myIndex = court_country[court_country==item].index[0]\n",
    "            if type(court['ProceedingType3'].iloc[myIndex])==float and type(court['ProceedingType2'].iloc[myIndex])==float:\n",
    "                country_json[item][\"Court\"] = {'ProceedingType1':str(court['ProceedingType1'].iloc[myIndex]),\n",
    "                                               'Court1': str(court['Court1'].iloc[myIndex])}\n",
    "\n",
    "            elif type(court['ProceedingType3'].iloc[myIndex])==float and type(court['ProceedingType2'].iloc[myIndex])==str:\n",
    "\n",
    "                country_json[item][\"Court\"] = {'ProceedingType1':str(court['ProceedingType1'].iloc[myIndex]),\n",
    "                                               'Court1': str(court['Court1'].iloc[myIndex]),\n",
    "                                          'ProceedingType2':str(court['ProceedingType2'].iloc[myIndex]),\n",
    "                                               'Court2': str(court['Court2'].iloc[myIndex])}\n",
    "            else:\n",
    "                country_json[item][\"Court\"] = {'ProceedingType1': str(court['ProceedingType1'].iloc[myIndex]), \n",
    "                                               'Court1': str(court['Court1'].iloc[myIndex]),\n",
    "                                          'ProceedingType2': str(court['ProceedingType2'].iloc[myIndex]),\n",
    "                                               'Court2': str(court['Court2'].iloc[myIndex]),\n",
    "                                          'ProceedingType3': str(court['ProceedingType3'].iloc[myIndex]),\n",
    "                                               'Court3': str(court['Court3'].iloc[myIndex])}\n",
    "\n"
   ]
  },
  {
   "cell_type": "code",
   "execution_count": null,
   "metadata": {},
   "outputs": [],
   "source": [
    "\n",
    "\n"
   ]
  },
  {
   "cell_type": "code",
   "execution_count": null,
   "metadata": {},
   "outputs": [],
   "source": []
  },
  {
   "cell_type": "code",
   "execution_count": null,
   "metadata": {},
   "outputs": [],
   "source": []
  },
  {
   "cell_type": "code",
   "execution_count": 57,
   "metadata": {},
   "outputs": [],
   "source": [
    "with open('final.json', 'w', encoding = \"UTF-8\") as ps:\n",
    "    ps.write(jsons.dumps(country_json))"
   ]
  },
  {
   "cell_type": "code",
   "execution_count": null,
   "metadata": {},
   "outputs": [],
   "source": [
    "# with open('article.json', 'w', encoding=\"UTF-8\") as ps:\n",
    "#     ps.write(jsons.dumps(article_json))"
   ]
  },
  {
   "cell_type": "code",
   "execution_count": null,
   "metadata": {},
   "outputs": [],
   "source": []
  },
  {
   "cell_type": "code",
   "execution_count": null,
   "metadata": {},
   "outputs": [],
   "source": []
  }
 ],
 "metadata": {
  "kernelspec": {
   "display_name": "Python 3",
   "language": "python",
   "name": "python3"
  },
  "language_info": {
   "codemirror_mode": {
    "name": "ipython",
    "version": 3
   },
   "file_extension": ".py",
   "mimetype": "text/x-python",
   "name": "python",
   "nbconvert_exporter": "python",
   "pygments_lexer": "ipython3",
   "version": "3.8.5"
  }
 },
 "nbformat": 4,
 "nbformat_minor": 4
}
