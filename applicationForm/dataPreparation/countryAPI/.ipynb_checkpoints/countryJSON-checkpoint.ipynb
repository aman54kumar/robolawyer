{
 "cells": [
  {
   "cell_type": "code",
   "execution_count": 2,
   "metadata": {},
   "outputs": [],
   "source": [
    "import pandas as pd\n",
    "from datetime import datetime\n",
    "import os\n",
    "import jsons\n",
    "import numpy as np\n",
    "jsons.suppress_warnings()"
   ]
  },
  {
   "cell_type": "code",
   "execution_count": 3,
   "metadata": {},
   "outputs": [],
   "source": [
    "articleFilename = \"./API articles with ratification dates and reservations.xlsx\"\n",
    "courtFilename = \"./Countries_and_national_courts.csv\"\n",
    "# path = \"D:/Projects/robolawyer/applicationForm/dataPreparation/countryAPI\"\n",
    "path = \"/home/aman/Projects/robolawyer/applicationForm/dataPreparation/countryAPI\"\n",
    "os.chdir(path)\n",
    "final_list = []\n",
    "country_json = {}\n",
    "article_json = {}\n",
    "country_json = {}\n",
    "court_json = {}\n",
    "fill_dt = datetime(2100,1,1)\n",
    "fill_na = \"N/A\""
   ]
  },
  {
   "cell_type": "code",
   "execution_count": 4,
   "metadata": {},
   "outputs": [],
   "source": [
    "sheet_name = [i for i in range(1, 46)]\n",
    "data = pd.read_excel(articleFilename, sheet_name=sheet_name, index_col=0)\n",
    "court = pd.read_csv(courtFilename, header=0, sep=\",\")\n",
    "for element in data:\n",
    "    data[element]['Date'] = data[element]['Date'].fillna(fill_dt)\n",
    "    data[element]['Active/not active'] = data[element]['Active/not active'].fillna(fill_na)\n",
    "    data[element]['Reservations/Derogations/Declarations'] = data[element]['Reservations/Derogations/Declarations'].fillna(fill_na)\n",
    "    data[element]['Article'] = data[element]['Article'].fillna(fill_na)\n",
    "    data[element]['Full text'] = data[element]['Full text'].fillna(fill_na)"
   ]
  },
  {
   "cell_type": "code",
   "execution_count": 5,
   "metadata": {},
   "outputs": [],
   "source": [
    "def appendDotMakeString(el):\n",
    "    return str(el) + \".\"\n",
    "\n",
    "def appendBracketsMakeString(el):\n",
    "    return \"(\" + str(el) + \")\""
   ]
  },
  {
   "cell_type": "code",
   "execution_count": 6,
   "metadata": {},
   "outputs": [],
   "source": [
    "def olType():\n",
    "    finalList = []\n",
    "    alphabet = list(map(chr, range(97, 105)))\n",
    "    number = list(range(1,9))\n",
    "    olValue1 = list(map(appendBracketsMakeString, alphabet))\n",
    "    olValue2 = list(map(appendDotMakeString, number))\n",
    "    finalList.append(olValue1)\n",
    "    finalList.append(olValue2)\n",
    "    return finalList\n",
    "orderTypes = olType()\n",
    "# [['(a)', '(b)', '(c)', '(d)', '(e)', '(f)', '(g)', '(h)'],\n",
    "#  ['1.', '2.', '3.', '4.', '5.', '6.', '7.', '8.']]"
   ]
  },
  {
   "cell_type": "code",
   "execution_count": 18,
   "metadata": {},
   "outputs": [
    {
     "name": "stdout",
     "output_type": "stream",
     "text": [
      "1. Everyone’s right to life shall be protected by law. No one shall be deprived of his life intentionally save in the execution of a sentence of a court following his conviction of a crime for which this penalty is provided by law. <br/>\n",
      "2. Deprivation of life shall not be regarded as inflicted in contravention of this Article when it results from the use of force which is no more than absolutely necessary: <br/>\n",
      "(a) in defence of any person from unlawful violence; <br/>\n",
      "(b) in order to effect a lawful arrest or to prevent the escape of a person lawfully detained; <br/>\n",
      "(c) in action lawfully taken for the purpose of quelling a riot or insurrection.\n"
     ]
    }
   ],
   "source": [
    "import re\n",
    "text = data[element]['Full text'][1]\n",
    "print(text)\n",
    "# \n",
    "# pattern = re.compile(r'(\\d\\.|\\([a-z]\\))\\s')\n",
    "# pattern = re.search(r'(\\b1.\\s\\.*<br/>\\b|\\n\\d\\.\\s)|\\n(\\([a-z]\\)\\s)', text)\n",
    "# print(pattern)\n",
    "# pattern = re.compile(r'^.*$')\n",
    "# matches = pattern.finditer(text)\n",
    "# print(matches)\n",
    "# for match in matches:\n",
    "#     print(match)\n"
   ]
  },
  {
   "cell_type": "code",
   "execution_count": 19,
   "metadata": {},
   "outputs": [
    {
     "name": "stdout",
     "output_type": "stream",
     "text": [
      "['1. Everyone’s right to life shall be protected by law. No one shall be deprived of his life intentionally save in the execution of a sentence of a court following his conviction of a crime for which this penalty is provided by law. ', '2. Deprivation of life shall not be regarded as inflicted in contravention of this Article when it results from the use of force which is no more than absolutely necessary: ', '(a) in defence of any person from unlawful violence; ', '(b) in order to effect a lawful arrest or to prevent the escape of a person lawfully detained; ', '(c) in action lawfully taken for the purpose of quelling a riot or insurrection.']\n"
     ]
    }
   ],
   "source": [
    "t = text.split('<br/>\\n')\n",
    "result_list = []\n",
    "print(t)"
   ]
  },
  {
   "cell_type": "code",
   "execution_count": 28,
   "metadata": {},
   "outputs": [
    {
     "name": "stdout",
     "output_type": "stream",
     "text": [
      "[{'mainText': '1. Everyone’s right to life shall be protected by law. No one shall be deprived of his life intentionally save in the execution of a sentence of a court following his conviction of a crime for which this penalty is provided by law. ', 'points': []}, {'mainText': '2. Deprivation of life shall not be regarded as inflicted in contravention of this Article when it results from the use of force which is no more than absolutely necessary: ', 'points': ['(a) in defence of any person from unlawful violence; ', '(b) in order to effect a lawful arrest or to prevent the escape of a person lawfully detained; ', '(c) in action lawfully taken for the purpose of quelling a riot or insurrection.']}]\n"
     ]
    }
   ],
   "source": [
    "res = []\n",
    "flag = 0\n",
    "temp = {'mainText': '','points': []}\n",
    "for i in t:\n",
    "#     print(i)\n",
    "    if i[0] != '(':\n",
    "        # main text\n",
    "        if flag == 1 or flag == 2:\n",
    "            res.append(temp)\n",
    "            temp = {'mainText': '','points': []}\n",
    "        flag = 1\n",
    "        temp['mainText'] = i\n",
    "    else:\n",
    "        # points\n",
    "        flag = 2\n",
    "        temp['points'].append(i)\n",
    "if flag == 2:\n",
    "    res.append(temp)\n",
    "print(res)\n",
    "    \n",
    "        "
   ]
  },
  {
   "cell_type": "code",
   "execution_count": null,
   "metadata": {},
   "outputs": [],
   "source": [
    "def getFormattedArticleText(text):\n",
    "    res = []\n",
    "    flag = 0\n",
    "    temp = {'mainText': '','points': []}\n",
    "    for i in text:\n",
    "        if i[0] != '(':\n",
    "            # main text\n",
    "            if flag == 1 or flag == 2:\n",
    "                res.append(temp)\n",
    "                temp = {'mainText': '','points': []}\n",
    "            flag = 1\n",
    "            temp['mainText'] = i\n",
    "        else:\n",
    "            # points\n",
    "            flag = 2\n",
    "            temp['points'].append(i)\n",
    "    if flag == 2:\n",
    "        res.append(temp)\n",
    "    return res;\n",
    "    "
   ]
  },
  {
   "cell_type": "code",
   "execution_count": 17,
   "metadata": {},
   "outputs": [],
   "source": [
    "\n",
    "brokenList = []\n"
   ]
  },
  {
   "cell_type": "code",
   "execution_count": 15,
   "metadata": {},
   "outputs": [],
   "source": [
    "for item in range(1, len(data)):\n",
    "    country_json[data[item]['Country'][1]] = {}\n",
    "    \n",
    "court_country = court['Country']"
   ]
  },
  {
   "cell_type": "raw",
   "metadata": {},
   "source": [
    "{\n",
    "    \"Albania\": {\n",
    "        \"date\": [],\n",
    "        \"Active\": [],\n",
    "        \"Reservations\": [],\n",
    "        \"Article\": [],\n",
    "        \"Full Text: []\n",
    "    },\n",
    "    \n",
    "    \n",
    "}\n",
    "\n",
    "Index(['Country', 'Date', 'Active/not active',\n",
    "       'Reservations/Derogations/Declarations', 'Article', 'Full text'],\n",
    "      dtype='object')"
   ]
  },
  {
   "cell_type": "code",
   "execution_count": null,
   "metadata": {},
   "outputs": [],
   "source": []
  },
  {
   "cell_type": "code",
   "execution_count": 16,
   "metadata": {},
   "outputs": [],
   "source": [
    "for item in country_json:\n",
    "    for record in data:\n",
    "        if item == data[record]['Country'].any():\n",
    "            country_json[item]['Date'] = pd.to_datetime(data[record]['Date']).dt.strftime(\"%d-%m-%Y\")\n",
    "            country_json[item]['Active'] = data[record]['Active/not active']\n",
    "            country_json[item]['Reservations'] = data[record]['Reservations/Derogations/Declarations']\n",
    "            country_json[item]['ratDate'] = pd.to_datetime(data[record]['Date'].min()).strftime(\"%d-%m-%Y\")\n",
    "        if item == data[record]['Country'].all():\n",
    "            article_json['Article'] = data[record]['Article'] \n",
    "            article_json['Full text'] = data[record]['Full text']\n",
    "        \n",
    "        if item in court['Country'].tolist():\n",
    "            myIndex = court_country[court_country==item].index[0]\n",
    "            if type(court['ProceedingType3'].iloc[myIndex])==float and type(court['ProceedingType2'].iloc[myIndex])==float:\n",
    "                country_json[item][\"Court\"] = {'ProceedingType1':str(court['ProceedingType1'].iloc[myIndex]),\n",
    "                                               'Court1': str(court['Court1'].iloc[myIndex])}\n",
    "\n",
    "            elif type(court['ProceedingType3'].iloc[myIndex])==float and type(court['ProceedingType2'].iloc[myIndex])==str:\n",
    "\n",
    "                country_json[item][\"Court\"] = {'ProceedingType1':str(court['ProceedingType1'].iloc[myIndex]),\n",
    "                                               'Court1': str(court['Court1'].iloc[myIndex]),\n",
    "                                          'ProceedingType2':str(court['ProceedingType2'].iloc[myIndex]),\n",
    "                                               'Court2': str(court['Court2'].iloc[myIndex])}\n",
    "            else:\n",
    "                country_json[item][\"Court\"] = {'ProceedingType1': str(court['ProceedingType1'].iloc[myIndex]), \n",
    "                                               'Court1': str(court['Court1'].iloc[myIndex]),\n",
    "                                          'ProceedingType2': str(court['ProceedingType2'].iloc[myIndex]),\n",
    "                                               'Court2': str(court['Court2'].iloc[myIndex]),\n",
    "                                          'ProceedingType3': str(court['ProceedingType3'].iloc[myIndex]),\n",
    "                                               'Court3': str(court['Court3'].iloc[myIndex])}\n",
    "\n"
   ]
  },
  {
   "cell_type": "code",
   "execution_count": null,
   "metadata": {},
   "outputs": [],
   "source": [
    "\n",
    "\n"
   ]
  },
  {
   "cell_type": "code",
   "execution_count": null,
   "metadata": {},
   "outputs": [],
   "source": []
  },
  {
   "cell_type": "code",
   "execution_count": null,
   "metadata": {},
   "outputs": [],
   "source": []
  },
  {
   "cell_type": "code",
   "execution_count": 8,
   "metadata": {},
   "outputs": [],
   "source": [
    "with open('final.json', 'w', encoding = \"UTF-8\") as ps:\n",
    "    ps.write(jsons.dumps(country_json))"
   ]
  },
  {
   "cell_type": "code",
   "execution_count": null,
   "metadata": {},
   "outputs": [],
   "source": [
    "# with open('article.json', 'w', encoding=\"UTF-8\") as ps:\n",
    "#     ps.write(jsons.dumps(article_json))"
   ]
  },
  {
   "cell_type": "code",
   "execution_count": null,
   "metadata": {},
   "outputs": [],
   "source": []
  },
  {
   "cell_type": "code",
   "execution_count": null,
   "metadata": {},
   "outputs": [],
   "source": []
  }
 ],
 "metadata": {
  "kernelspec": {
   "display_name": "Python 3",
   "language": "python",
   "name": "python3"
  },
  "language_info": {
   "codemirror_mode": {
    "name": "ipython",
    "version": 3
   },
   "file_extension": ".py",
   "mimetype": "text/x-python",
   "name": "python",
   "nbconvert_exporter": "python",
   "pygments_lexer": "ipython3",
   "version": "3.8.5"
  }
 },
 "nbformat": 4,
 "nbformat_minor": 4
}
