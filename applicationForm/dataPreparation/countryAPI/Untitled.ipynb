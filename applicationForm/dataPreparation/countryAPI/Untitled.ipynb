{
 "cells": [
  {
   "cell_type": "code",
   "execution_count": 1,
   "id": "c3c1cbd8",
   "metadata": {},
   "outputs": [],
   "source": [
    "#!/usr/bin/env python\n",
    "# coding: utf-8\n",
    "\"\"\" delete countryArticle.json and global static folder\n",
    " python manage.py shell\n",
    " exec(open('.\\\\applicationForm\\\\dataPreparation\\\\countryAPI\\\\countryJSON.py').read())\n",
    "#  for linux\n",
    " exec(open('./applicationForm/dataPreparation/countryAPI/countryJSON.py').read())\n",
    " \"\"\"\n",
    "import pandas as pd\n",
    "from datetime import datetime\n",
    "from django.conf import settings\n",
    "import os\n",
    "import jsons\n",
    "jsons.suppress_warnings()\n",
    "\n",
    "\n",
    "\n"
   ]
  },
  {
   "cell_type": "code",
   "execution_count": 2,
   "id": "fbf94295",
   "metadata": {},
   "outputs": [],
   "source": [
    "def getFormattedArticleText(text):\n",
    "    text = text.split('<br/>\\n')\n",
    "    if len(text) == 1:\n",
    "        return [{'mainText': text, 'points': []}]\n",
    "    res = []\n",
    "    flag = 0\n",
    "    temp = {'mainText': '', 'points': []}\n",
    "    for i in text:\n",
    "        if i[0] != '(':\n",
    "            # main text\n",
    "            if flag == 1 or flag == 2:\n",
    "                res.append(temp)\n",
    "                temp = {'mainText': '', 'points': []}\n",
    "            flag = 1\n",
    "            temp['mainText'] = i\n",
    "\n",
    "        else:\n",
    "            # points\n",
    "            flag = 2\n",
    "            temp['points'].append(i)\n",
    "    if flag == 2 or flag == 1:\n",
    "        res.append(temp)\n",
    "    return res"
   ]
  },
  {
   "cell_type": "code",
   "execution_count": 3,
   "id": "e4261f1e",
   "metadata": {
    "scrolled": true
   },
   "outputs": [
    {
     "name": "stderr",
     "output_type": "stream",
     "text": [
      "/tmp/ipykernel_122050/2475186702.py:17: FutureWarning: Your version of xlrd is 1.2.0. In xlrd >= 2.0, only the xls format is supported. As a result, the openpyxl engine will be used if it is installed and the engine argument is not specified. Install openpyxl instead.\n",
      "  data = pd.read_excel(articleFile, sheet_name=sheet_name, index_col=0, engine=\"xlrd\")\n"
     ]
    }
   ],
   "source": [
    "\n",
    "\n",
    "articleFile = './API ratification territorial application reservations - With UK updated-Jul23.xlsx'\n",
    "\n",
    "courtFile = './Countries_and_national_courts.csv'\n",
    "\n",
    "outputFile = './countryArticle.json'\n",
    "\n",
    "tempFile = './temp.csv'\n",
    "final_list = {}\n",
    "country_json = {}\n",
    "article_json = {}\n",
    "court_json = {}\n",
    "court_json = {}\n",
    "fill_dt = datetime(2100, 1, 1)\n",
    "fill_na = \"N/A\"\n",
    "\n",
    "sheet_name = [i for i in range(1, 48)]\n",
    "data = pd.read_excel(articleFile, sheet_name=sheet_name, index_col=0, engine=\"xlrd\")\n",
    "court = pd.read_csv(courtFile, header=0, sep=\",\", encoding=\"utf-8\")\n",
    "\n"
   ]
  },
  {
   "cell_type": "code",
   "execution_count": 4,
   "id": "d4834714",
   "metadata": {},
   "outputs": [],
   "source": [
    "for element in data:\n",
    "    data[element]['Date'] = data[element]['Date'].fillna(fill_dt)\n",
    "    data[element]['Active/not active'] = data[element][\n",
    "        'Active/not active'].fillna(fill_na)\n",
    "    data[element]['Reservations/Derogations/Declarations'] = data[element][\n",
    "        'Reservations/Derogations/Declarations'].fillna(fill_na)\n",
    "    data[element]['Article'] = data[element]['Article'].fillna(fill_na)\n",
    "    data[element]['Full text'] = data[element]['Full text'].fillna(fill_na)\n"
   ]
  },
  {
   "cell_type": "code",
   "execution_count": 5,
   "id": "60ba77e0",
   "metadata": {},
   "outputs": [],
   "source": [
    "textArray = data[1]['Full text']\n",
    "resultList = []\n",
    "for text in textArray:\n",
    "    resultList.append(getFormattedArticleText(text))\n",
    "court_country = court['Country']\n",
    "for item in range(1, len(data) + 1):\n",
    "    country_json[data[item]['Country'][1]] = {}\n",
    "\n"
   ]
  },
  {
   "cell_type": "code",
   "execution_count": 6,
   "id": "1ec3cd34",
   "metadata": {},
   "outputs": [],
   "source": [
    "for item in country_json:\n",
    "    for record in data:    \n",
    "        if item == data[record]['Country'].any():\n",
    "            country_json[item]['Date'] = pd.to_datetime(\n",
    "                data[record]['Date']).dt.strftime(\"%d-%m-%Y\")\n",
    "            country_json[item]['Active'] = data[record]['Active/not active']\n",
    "            country_json[item]['Reservations'] = data[record][\n",
    "                'Reservations/Derogations/Declarations']\n",
    "            country_json[item]['ratDate'] = pd.to_datetime(\n",
    "                data[record]['Date'].min()).strftime(\"%d-%m-%Y\")\n",
    "        if item == data[record]['Country'].all():\n",
    "            article_json['Article'] = data[record]['Article']\n",
    "            article_json['Full text'] = resultList\n",
    "            \n",
    "\n",
    "        if item in court['Country'].tolist():\n",
    "            myIndex = court_country[court_country == item].index[0]\n",
    "            if type(court['ProceedingType3'].iloc[myIndex]) == float and type(\n",
    "                    court['ProceedingType2'].iloc[myIndex]) == float:\n",
    "                country_json[item][\"Court\"] = {\n",
    "                    'ProceedingType1':\n",
    "                    str(court['ProceedingType1'].iloc[myIndex]),\n",
    "                    'Court1': str(court['Court1'].iloc[myIndex])\n",
    "                }\n",
    "\n",
    "            elif type(\n",
    "                    court['ProceedingType3'].iloc[myIndex]) == float and type(\n",
    "                        court['ProceedingType2'].iloc[myIndex]) == str:\n",
    "\n",
    "                country_json[item][\"Court\"] = {\n",
    "                    'ProceedingType1':\n",
    "                    str(court['ProceedingType1'].iloc[myIndex]),\n",
    "                    'Court1': str(court['Court1'].iloc[myIndex]),\n",
    "                    'ProceedingType2':\n",
    "                    str(court['ProceedingType2'].iloc[myIndex]),\n",
    "                    'Court2': str(court['Court2'].iloc[myIndex])\n",
    "                }\n",
    "            else:\n",
    "                country_json[item][\"Court\"] = {\n",
    "                    'ProceedingType1':\n",
    "                    str(court['ProceedingType1'].iloc[myIndex]),\n",
    "                    'Court1': str(court['Court1'].iloc[myIndex]),\n",
    "                    'ProceedingType2':\n",
    "                    str(court['ProceedingType2'].iloc[myIndex]),\n",
    "                    'Court2': str(court['Court2'].iloc[myIndex]),\n",
    "                    'ProceedingType3':\n",
    "                    str(court['ProceedingType3'].iloc[myIndex]),\n",
    "                    'Court3': str(court['Court3'].iloc[myIndex])\n",
    "                }\n",
    "\n"
   ]
  },
  {
   "cell_type": "code",
   "execution_count": 7,
   "id": "8c7e8073",
   "metadata": {},
   "outputs": [],
   "source": [
    "final_list[\"country\"] = country_json\n",
    "final_list[\"article\"] = article_json\n",
    "# print(final_list[\"article\"])\n",
    "with open(outputFile, 'w', encoding=\"UTF-8\") as ps:\n",
    "    ps.write(jsons.dumps(article_json))"
   ]
  },
  {
   "cell_type": "code",
   "execution_count": null,
   "id": "873ba3db",
   "metadata": {},
   "outputs": [],
   "source": []
  }
 ],
 "metadata": {
  "kernelspec": {
   "display_name": "Python 3.8.10 ('robolawyer-duHIREuL')",
   "language": "python",
   "name": "python3810jvsc74a57bd00b488ff88c62785f5119689123fb68f38e55d582144dd0c78612c6dffa7aa783"
  },
  "language_info": {
   "codemirror_mode": {
    "name": "ipython",
    "version": 3
   },
   "file_extension": ".py",
   "mimetype": "text/x-python",
   "name": "python",
   "nbconvert_exporter": "python",
   "pygments_lexer": "ipython3",
   "version": "3.8.10"
  }
 },
 "nbformat": 4,
 "nbformat_minor": 5
}
