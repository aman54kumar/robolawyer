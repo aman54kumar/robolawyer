import pandas as pd
from datetime import datetime
import os
import jsons
jsons.suppress_warnings()


filename = "./API articles with ratification dates and reservations.xlsx"
path = "D:/Projects/robolawyer/applicationForm/dataPreparation/countryAPI"
os.chdir(path)
final_list = []
country_json = {}
article_json = {}
fill_dt = datetime(2100,1,1)
fill_na = "N/A"


sheet_name = [i for i in range(1, 46)]
data = pd.read_excel(filename, sheet_name=sheet_name, index_col=0)

for element in data:
    data[element]['Date'] = data[element]['Date'].fillna(fill_dt)
    data[element]['Active/not active'] = data[element]['Active/not active'].fillna(fill_na)
    data[element]['Reservations/Derogations/Declarations'] = data[element]['Reservations/Derogations/Declarations'].fillna(fill_na)
    data[element]['Article'] = data[element]['Article'].fillna(fill_na)
    data[element]['Full text'] = data[element]['Full text'].fillna(fill_na)


# data[1].columns
# data[1]
# for element in data:
#     print(newData[element])


for item in range(1, len(data)):
    country_json[data[item]['Country'][1]] = {}


for item in country_json:
    for record in data:
        if item == data[record]['Country'].any():
            country_json[item]['Date'] = pd.to_datetime(data[record]['Date']).dt.strftime("%d-%m-%Y")
            country_json[item]['Active'] = data[record]['Active/not active']
            country_json[item]['Reservations'] = data[record]['Reservations/Derogations/Declarations']
            country_json[item]['ratDate'] = pd.to_datetime(data[record]['Date'].min()).strftime("%d-%m-%Y")
        if item == data[record]['Country'].all():
            article_json['Article'] = data[record]['Article'] 
            article_json['Full text'] = data[record]['Full text']





with open('final.json', 'w', encoding = "UTF-8") as ps:
    ps.write(jsons.dumps(country_json))


# with open('article.json', 'w', encoding="UTF-8") as ps:
#     ps.write(jsons.dumps(article_json))



